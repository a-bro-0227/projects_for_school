{
  "nbformat": 4,
  "nbformat_minor": 0,
  "metadata": {
    "kernelspec": {
      "display_name": "Python 3",
      "language": "python",
      "name": "python3"
    },
    "language_info": {
      "codemirror_mode": {
        "name": "ipython",
        "version": 3
      },
      "file_extension": ".py",
      "mimetype": "text/x-python",
      "name": "python",
      "nbconvert_exporter": "python",
      "pygments_lexer": "ipython3",
      "version": "3.7.0"
    },
    "colab": {
      "name": "Copy of python_strings_drills.ipynb",
      "version": "0.3.2",
      "provenance": [],
      "include_colab_link": true
    }
  },
  "cells": [
    {
      "cell_type": "markdown",
      "metadata": {
        "id": "view-in-github",
        "colab_type": "text"
      },
      "source": [
        "<a href=\"https://colab.research.google.com/github/alexb523/projects_for_school/blob/master/Copy_of_python_strings_drills.ipynb\" target=\"_parent\"><img src=\"https://colab.research.google.com/assets/colab-badge.svg\" alt=\"Open In Colab\"/></a>"
      ]
    },
    {
      "cell_type": "markdown",
      "metadata": {
        "id": "oM-yXM2D95j7",
        "colab_type": "text"
      },
      "source": [
        "## 1: Hello world\n",
        "\n",
        "Create a function called `hello` that takes one argument (`person`, a string) and returns a string saying hello to that person. The result should be formatted so that when you call the function like this:\n",
        "\n",
        "```python\n",
        "hello('Moon')\n",
        "```\n",
        "\n",
        "you return a string that looks like this:\n",
        "\n",
        "```python\n",
        "'Hello, Moon'\n",
        "```"
      ]
    },
    {
      "cell_type": "code",
      "metadata": {
        "id": "YKyHKrrP95j9",
        "colab_type": "code",
        "outputId": "4c17375c-7d1d-436f-b2cd-3eed9f468434",
        "colab": {
          "base_uri": "https://localhost:8080/",
          "height": 34
        }
      },
      "source": [
        "def hello(str):\n",
        "  return print('Hello, '+str)\n",
        "\n",
        "hello('Moon')"
      ],
      "execution_count": 0,
      "outputs": [
        {
          "output_type": "stream",
          "text": [
            "Hello, Moon\n"
          ],
          "name": "stdout"
        }
      ]
    },
    {
      "cell_type": "markdown",
      "metadata": {
        "id": "AwTEb3Kj95kC",
        "colab_type": "text"
      },
      "source": [
        "<br>\n",
        "\n",
        "## 2: Quotable\n",
        "\n",
        "1. [Quotable](https://www.codewars.com/kata/thinkful-string-drills-quotable/)\n",
        "\n",
        "Create a function called `quotable` that takes a person's name as a parameter called `name` and a quote of theirs as a parameter called `quote`, and return a string attributing the quote to the person in the following format:\n",
        "\n",
        "```\n",
        "'[name] said: \"[quote]\"'\n",
        "```\n",
        "\n",
        "For example, if name is 'Grae' and 'quote' is 'Practice makes perfect' then your function should return the string\n",
        "\n",
        "'Grae said: \"Practice makes perfect\"'\n",
        "Unfortunately, something is wrong with the instructions in the function body. Your job is to fix it so the function returns correctly formatted quotes.\n",
        "\n",
        "Be careful with your quotation marks!"
      ]
    },
    {
      "cell_type": "code",
      "metadata": {
        "id": "MP5jKtfH_6uu",
        "colab_type": "code",
        "colab": {}
      },
      "source": [
        ""
      ],
      "execution_count": 0,
      "outputs": []
    },
    {
      "cell_type": "markdown",
      "metadata": {
        "id": "WCE-ti9G95kE",
        "colab_type": "text"
      },
      "source": [
        "## 3: Jedi name\n",
        "\n",
        "You just took a contract with the Jedi council. They need you to write a function, greet_jedi(), which takes two arguments (a first name and a last name), works out the corresponding Jedi name, and returns a string greeting the Jedi.\n",
        "\n",
        "A person's Jedi name is the first three letters of their last name followed by the first two letters of their first name. For example:\n",
        "\n",
        "```\n",
        ">>> greet_jedi('Beyonce', 'Knowles')\n",
        "'Greetings, master KnoBe'\n",
        "```\n",
        "\n",
        "Note the capitalization: the first letter of each name is capitalized. Your input may or may not be capitalized. Your function should handle it and return the Jedi name in the correct case no matter what case the input is in:\n",
        "\n",
        "```\n",
        ">>> greet_jedi('grae', 'drake')\n",
        "'Greetings, master DraGr'\n",
        "```"
      ]
    },
    {
      "cell_type": "markdown",
      "metadata": {
        "id": "Ja0t1Aqu95kF",
        "colab_type": "text"
      },
      "source": [
        "## 4: Poem formatter\n",
        "\n",
        "You have a collection of lovely poems. Unfortuantely they aren't formatted very well. They're all on one line, like this:\n",
        "\n",
        "```\n",
        "Beautiful is better than ugly. Explicit is better than implicit. Simple is better than complex. Complex is better than complicated.\n",
        "```\n",
        "\n",
        "What you want is to present each sentence on a new line, so that it looks like this:\n",
        "\n",
        "```\n",
        "Beautiful is better than ugly.\n",
        "Explicit is better than implicit.\n",
        "Simple is better than complex.\n",
        "Complex is better than complicated.\n",
        "```\n",
        "\n",
        "Write a function called `format_poem` that takes a string like the one-line example as an argument and returns a new string that is formatted across multiple lines with each new sentence starting on a new line when you print it out.\n",
        "\n",
        "Hint: You may find the `str.split()` and the `str.join()` string methods to be helpful.\n",
        "\n",
        "Every sentence will end with a period, and every new sentence will have one space before the previous period. Be careful about trailing whitespace in your solution."
      ]
    },
    {
      "cell_type": "code",
      "metadata": {
        "id": "NJnNksQH95kG",
        "colab_type": "code",
        "outputId": "798fbb4b-6bfb-4716-a81c-b352e4d44b27",
        "colab": {
          "base_uri": "https://localhost:8080/",
          "height": 238
        }
      },
      "source": [
        "print(\"\\n#2\")\n",
        "def quotable(name,quote):\n",
        "  return print(\"{} said: \\\"{}\\\".\".format(name,quote))\n",
        "\n",
        "quotable(\"Grae\",\"Practice makes perfect\")\n",
        "\n",
        "print(\"\\n#3\")\n",
        "def greet_jedi(first_name,last_name):\n",
        "  first_name=first_name[:2].capitalize()\n",
        "  last_name=last_name[:3].capitalize()\n",
        "  return print(\"Greetings, master {}{}.\".format(last_name,first_name))\n",
        "greet_jedi(\"grae\", \"drake\")\n",
        "\n",
        "\n",
        "print(\"\\n#4\")\n",
        "def format_poem(poetry):\n",
        "  poetry=poetry.split(\".\")\n",
        "  poetry=\".\\n\".join(poetry)\n",
        "  print(\" \"+poetry)\n",
        "  return None\n",
        "\n",
        "format_poem(\"Beautiful is better than ugly. Explicit is better than implicit. Simple is better than complex. Complex is better than complicated.\")\n"
      ],
      "execution_count": 0,
      "outputs": [
        {
          "output_type": "stream",
          "text": [
            "\n",
            "#2\n",
            "Grae said: \"Practice makes perfect\".\n",
            "\n",
            "#3\n",
            "Greetings, master DraGr.\n",
            "\n",
            "#4\n",
            " Beautiful is better than ugly.\n",
            " Explicit is better than implicit.\n",
            " Simple is better than complex.\n",
            " Complex is better than complicated.\n",
            "\n"
          ],
          "name": "stdout"
        }
      ]
    }
  ]
}