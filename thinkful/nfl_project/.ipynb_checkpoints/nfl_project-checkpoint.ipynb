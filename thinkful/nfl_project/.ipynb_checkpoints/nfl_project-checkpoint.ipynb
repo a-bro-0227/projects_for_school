{
 "cells": [
  {
   "cell_type": "code",
   "execution_count": 1,
   "metadata": {},
   "outputs": [],
   "source": [
    "# package libraries\n",
    "import pandas as pd\n",
    "import numpy as mp\n",
    "\n",
    "# read in files\n",
    "basic_stats = pd.read_csv('~/Documents/GitHub/projects_for_school/thinkful/nfl_project/data/Basic_Stats.csv')\n",
    "game_log_r = pd.read_csv('~/Documents/GitHub/projects_for_school/thinkful/nfl_project/data/Game_Logs_Runningback.csv')\n",
    "game_log_c = pd.read_csv('~/Documents/GitHub/projects_for_school/thinkful/nfl_project/data/Game_Logs_Wide_Receiver_and_Tight_End.csv')"
   ]
  },
  {
   "cell_type": "code",
   "execution_count": 2,
   "metadata": {},
   "outputs": [
    {
     "name": "stdout",
     "output_type": "stream",
     "text": [
      "<class 'pandas.core.frame.DataFrame'>\n",
      "RangeIndex: 17172 entries, 0 to 17171\n",
      "Data columns (total 16 columns):\n",
      "Age                     13504 non-null float64\n",
      "Birth Place             14794 non-null object\n",
      "Birthday                16835 non-null object\n",
      "College                 17133 non-null object\n",
      "Current Status          17172 non-null object\n",
      "Current Team            3096 non-null object\n",
      "Experience              17133 non-null object\n",
      "Height (inches)         17026 non-null float64\n",
      "High School             2514 non-null object\n",
      "High School Location    2510 non-null object\n",
      "Name                    17172 non-null object\n",
      "Number                  1708 non-null float64\n",
      "Player Id               17172 non-null object\n",
      "Position                3096 non-null object\n",
      "Weight (lbs)            17121 non-null float64\n",
      "Years Played            14076 non-null object\n",
      "dtypes: float64(4), object(12)\n",
      "memory usage: 2.1+ MB\n"
     ]
    }
   ],
   "source": [
    "basic_stats.info()"
   ]
  },
  {
   "cell_type": "code",
   "execution_count": 3,
   "metadata": {},
   "outputs": [
    {
     "data": {
      "text/html": [
       "<div>\n",
       "<style scoped>\n",
       "    .dataframe tbody tr th:only-of-type {\n",
       "        vertical-align: middle;\n",
       "    }\n",
       "\n",
       "    .dataframe tbody tr th {\n",
       "        vertical-align: top;\n",
       "    }\n",
       "\n",
       "    .dataframe thead th {\n",
       "        text-align: right;\n",
       "    }\n",
       "</style>\n",
       "<table border=\"1\" class=\"dataframe\">\n",
       "  <thead>\n",
       "    <tr style=\"text-align: right;\">\n",
       "      <th></th>\n",
       "      <th>player_id</th>\n",
       "      <th>current_status</th>\n",
       "      <th>current_team</th>\n",
       "      <th>experience</th>\n",
       "      <th>college</th>\n",
       "      <th>age</th>\n",
       "      <th>weight</th>\n",
       "      <th>height</th>\n",
       "    </tr>\n",
       "  </thead>\n",
       "  <tbody>\n",
       "    <tr>\n",
       "      <td>0</td>\n",
       "      <td>fredevans/2513736</td>\n",
       "      <td>Retired</td>\n",
       "      <td>NaN</td>\n",
       "      <td>3</td>\n",
       "      <td>Notre Dame</td>\n",
       "      <td>NaN</td>\n",
       "      <td>185.0</td>\n",
       "      <td>71.0</td>\n",
       "    </tr>\n",
       "    <tr>\n",
       "      <td>1</td>\n",
       "      <td>jimraiff/2523700</td>\n",
       "      <td>Retired</td>\n",
       "      <td>NaN</td>\n",
       "      <td>1</td>\n",
       "      <td>Dayton</td>\n",
       "      <td>NaN</td>\n",
       "      <td>235.0</td>\n",
       "      <td>70.0</td>\n",
       "    </tr>\n",
       "    <tr>\n",
       "      <td>2</td>\n",
       "      <td>bobbyfowler/2514295</td>\n",
       "      <td>Retired</td>\n",
       "      <td>NaN</td>\n",
       "      <td>1</td>\n",
       "      <td>Louisiana Tech</td>\n",
       "      <td>56.0</td>\n",
       "      <td>230.0</td>\n",
       "      <td>74.0</td>\n",
       "    </tr>\n",
       "    <tr>\n",
       "      <td>3</td>\n",
       "      <td>quinnjohnson/79593</td>\n",
       "      <td>Retired</td>\n",
       "      <td>NaN</td>\n",
       "      <td>5</td>\n",
       "      <td>LSU</td>\n",
       "      <td>30.0</td>\n",
       "      <td>255.0</td>\n",
       "      <td>73.0</td>\n",
       "    </tr>\n",
       "    <tr>\n",
       "      <td>4</td>\n",
       "      <td>l.t.walton/2552444</td>\n",
       "      <td>Active</td>\n",
       "      <td>Pittsburgh Steelers</td>\n",
       "      <td>3</td>\n",
       "      <td>Central Michigan</td>\n",
       "      <td>25.0</td>\n",
       "      <td>305.0</td>\n",
       "      <td>77.0</td>\n",
       "    </tr>\n",
       "  </tbody>\n",
       "</table>\n",
       "</div>"
      ],
      "text/plain": [
       "             player_id current_status         current_team experience  \\\n",
       "0    fredevans/2513736        Retired                  NaN          3   \n",
       "1     jimraiff/2523700        Retired                  NaN          1   \n",
       "2  bobbyfowler/2514295        Retired                  NaN          1   \n",
       "3   quinnjohnson/79593        Retired                  NaN          5   \n",
       "4   l.t.walton/2552444         Active  Pittsburgh Steelers          3   \n",
       "\n",
       "            college   age  weight  height  \n",
       "0        Notre Dame   NaN   185.0    71.0  \n",
       "1            Dayton   NaN   235.0    70.0  \n",
       "2    Louisiana Tech  56.0   230.0    74.0  \n",
       "3               LSU  30.0   255.0    73.0  \n",
       "4  Central Michigan  25.0   305.0    77.0  "
      ]
     },
     "execution_count": 3,
     "metadata": {},
     "output_type": "execute_result"
    }
   ],
   "source": [
    "# clen up basic_stats\n",
    "\n",
    "basic_stats = basic_stats.loc[ : , ['Player Id', 'Current Status', 'Current Team', 'Experience', 'College', 'Age', 'Weight (lbs)', 'Height (inches)']]\n",
    "\n",
    "basic_stats.rename(columns = {'Player Id': 'player_id',\n",
    "                              'Current Status': 'current_status',\n",
    "                              'Current Team': 'current_team',\n",
    "                              'Experience': 'experience',\n",
    "                              'College': 'college',\n",
    "                              'Age': 'age',\n",
    "                              'Weight (lbs)': 'weight',\n",
    "                              'Height (inches)': 'height'},\n",
    "                   inplace = True)\n",
    "\n",
    "basic_stats = basic_stats.replace(regex = {'experience': {'st|th|rd|nd|S|s|eason| ': '', 'Rookie': 0}}) # clean experience column\n",
    "\n",
    "basic_stats.head()"
   ]
  },
  {
   "cell_type": "code",
   "execution_count": null,
   "metadata": {},
   "outputs": [],
   "source": [
    "basic_stats['experience'].drop_duplicates()"
   ]
  },
  {
   "cell_type": "code",
   "execution_count": 5,
   "metadata": {},
   "outputs": [
    {
     "name": "stdout",
     "output_type": "stream",
     "text": [
      "Index(['Player Id', 'Name', 'Position', 'Year', 'Season', 'Week', 'Game Date',\n",
      "       'Home or Away', 'Opponent', 'Outcome', 'Score', 'Games Played',\n",
      "       'Games Started', 'Rushing Attempts', 'Rushing Yards', 'Yards Per Carry',\n",
      "       'Longest Rushing Run', 'Rushing TDs', 'Receptions', 'Receiving Yards',\n",
      "       'Yards Per Reception', 'Longest Reception', 'Receiving TDs', 'Fumbles',\n",
      "       'Fumbles Lost'],\n",
      "      dtype='object')\n",
      "Index(['Player Id', 'Name', 'Position', 'Year', 'Season', 'Week', 'Game Date',\n",
      "       'Home or Away', 'Opponent', 'Outcome', 'Score', 'Games Played',\n",
      "       'Games Started', 'Receptions', 'Receiving Yards', 'Yards Per Reception',\n",
      "       'Longest Reception', 'Receiving TDs', 'Rushing Attempts',\n",
      "       'Rushing Yards', 'Yards Per Carry', 'Longest Rushing Run',\n",
      "       'Rushing TDs', 'Fumbles', 'Fumbles Lost'],\n",
      "      dtype='object')\n"
     ]
    }
   ],
   "source": [
    "print(game_log_r.columns)\n",
    "print(game_log_c.columns)"
   ]
  },
  {
   "cell_type": "code",
   "execution_count": 9,
   "metadata": {},
   "outputs": [
    {
     "name": "stdout",
     "output_type": "stream",
     "text": [
      "<class 'pandas.core.frame.DataFrame'>\n",
      "Int64Index: 180293 entries, 0 to 112631\n",
      "Data columns (total 25 columns):\n",
      "Player Id              180293 non-null object\n",
      "Name                   180293 non-null object\n",
      "Position               36412 non-null object\n",
      "Year                   180293 non-null int64\n",
      "Season                 180293 non-null object\n",
      "Week                   180293 non-null int64\n",
      "Game Date              180293 non-null object\n",
      "Home or Away           180293 non-null object\n",
      "Opponent               180293 non-null object\n",
      "Outcome                180293 non-null object\n",
      "Score                  180293 non-null object\n",
      "Games Played           180293 non-null int64\n",
      "Games Started          180293 non-null object\n",
      "Rushing Attempts       180293 non-null object\n",
      "Rushing Yards          180293 non-null object\n",
      "Yards Per Carry        180293 non-null object\n",
      "Longest Rushing Run    180293 non-null object\n",
      "Rushing TDs            180293 non-null object\n",
      "Receptions             180293 non-null object\n",
      "Receiving Yards        180293 non-null object\n",
      "Yards Per Reception    180293 non-null object\n",
      "Longest Reception      180293 non-null object\n",
      "Receiving TDs          180293 non-null object\n",
      "Fumbles                180293 non-null object\n",
      "Fumbles Lost           180293 non-null object\n",
      "dtypes: int64(3), object(22)\n",
      "memory usage: 35.8+ MB\n"
     ]
    }
   ],
   "source": [
    "game_log_all = game_log_r.append(game_log_c, sort = False)\n",
    "game_log_all.info()"
   ]
  },
  {
   "cell_type": "code",
   "execution_count": null,
   "metadata": {},
   "outputs": [],
   "source": []
  }
 ],
 "metadata": {
  "kernelspec": {
   "display_name": "Python 3",
   "language": "python",
   "name": "python3"
  },
  "language_info": {
   "codemirror_mode": {
    "name": "ipython",
    "version": 3
   },
   "file_extension": ".py",
   "mimetype": "text/x-python",
   "name": "python",
   "nbconvert_exporter": "python",
   "pygments_lexer": "ipython3",
   "version": "3.7.4"
  }
 },
 "nbformat": 4,
 "nbformat_minor": 2
}
