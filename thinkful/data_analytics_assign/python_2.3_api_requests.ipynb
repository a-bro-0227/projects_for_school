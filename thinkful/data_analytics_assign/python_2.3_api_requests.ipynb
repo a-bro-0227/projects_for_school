{
 "cells": [
  {
   "cell_type": "code",
   "execution_count": 7,
   "metadata": {},
   "outputs": [
    {
     "name": "stdout",
     "output_type": "stream",
     "text": [
      "response status:200\n",
      "able to make successful connection\n"
     ]
    }
   ],
   "source": [
    "\n",
    "import requests # import `requests` library for api request\n",
    "import pandas   # import pandas for clean data frame printing\n",
    "\n",
    "# identifing url and query\n",
    "\n",
    "# to get api key, you will need to go to: https://github.com/harvardartmuseums/api-docs\n",
    "# and 'Send a request' to obatain a key.\n",
    "\n",
    "# in addition, the question is asking for british people in the collection\n",
    "# since one of the keys in the `records` is `culture` (investigated later in code)\n",
    "# we will query for culter = british\n",
    "\n",
    "# the below is what is should look like with your apikey.\n",
    "\n",
    "url = 'https://api.harvardartmuseums.org/person'\n",
    "query = {'apikey': '7d20a900-deda-11e9-a0e4-89a9f1a6994d',\n",
    "         'q': 'culture:British',\n",
    "        'fields'}\n",
    "\n",
    "\n",
    "response = requests.get(url, query) # send a response call to the url\n",
    "\n",
    "\n",
    "if response.ok: # make sure the response was successful\n",
    "    print('response status: {}'.format(response.status_code))\n",
    "    print('able to make successful connection')\n",
    "else:\n",
    "    print('not able to make successful connection')"
   ]
  },
  {
   "cell_type": "code",
   "execution_count": 8,
   "metadata": {},
   "outputs": [
    {
     "data": {
      "text/plain": [
       "dict_keys(['info', 'records'])"
      ]
     },
     "execution_count": 8,
     "metadata": {},
     "output_type": "execute_result"
    }
   ],
   "source": [
    "# investigate the data\n",
    "\n",
    "data = response.json() # save the json data\n",
    "data.keys()            # list all the keys in the dictionary"
   ]
  },
  {
   "cell_type": "code",
   "execution_count": null,
   "metadata": {},
   "outputs": [],
   "source": [
    "# look at the structure of the data\n",
    "\n",
    "data['info']"
   ]
  },
  {
   "cell_type": "code",
   "execution_count": null,
   "metadata": {},
   "outputs": [],
   "source": [
    "# since we want to loop through the pages eventually,\n",
    "# we will save the number of pages\n",
    "\n",
    "total_pages = data['info']['pages'] # save the number of pages from info section of json\n",
    "total_pages"
   ]
  },
  {
   "cell_type": "code",
   "execution_count": null,
   "metadata": {},
   "outputs": [],
   "source": [
    "data['records'][0].keys()"
   ]
  },
  {
   "cell_type": "code",
   "execution_count": null,
   "metadata": {},
   "outputs": [],
   "source": [
    "raw_records = data['records'] # save and view the records of the json\n",
    "raw_records"
   ]
  }
 ],
 "metadata": {
  "kernelspec": {
   "display_name": "Python 3",
   "language": "python",
   "name": "python3"
  },
  "language_info": {
   "codemirror_mode": {
    "name": "ipython",
    "version": 3
   },
   "file_extension": ".py",
   "mimetype": "text/x-python",
   "name": "python",
   "nbconvert_exporter": "python",
   "pygments_lexer": "ipython3",
   "version": "3.7.4"
  }
 },
 "nbformat": 4,
 "nbformat_minor": 2
}
