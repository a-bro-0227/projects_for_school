{
 "cells": [
  {
   "cell_type": "markdown",
   "metadata": {},
   "source": [
    "## 1: Hello world\n",
    "\n",
    "Create a function called `hello` that takes one argument (`person`, a string) and returns a string saying hello to that person. The result should be formatted so that when you call the function like this:\n",
    "\n",
    "```python\n",
    "hello('Moon')\n",
    "```\n",
    "\n",
    "you return a string that looks like this:\n",
    "\n",
    "```python\n",
    "'Hello, Moon'\n",
    "```"
   ]
  },
  {
   "cell_type": "code",
   "execution_count": 2,
   "metadata": {},
   "outputs": [
    {
     "data": {
      "text/plain": [
       "'Hello, Moon'"
      ]
     },
     "execution_count": 2,
     "metadata": {},
     "output_type": "execute_result"
    }
   ],
   "source": [
    "def hello(person):\n",
    "    return 'Hello' + ', ' + person\n",
    "\n",
    "hello('Moon')"
   ]
  },
  {
   "cell_type": "markdown",
   "metadata": {},
   "source": [
    "<br>\n",
    "\n",
    "## 2: Quotable\n",
    "\n",
    "1. [Quotable](https://www.codewars.com/kata/thinkful-string-drills-quotable/)\n",
    "\n",
    "Create a function called `quotable` that takes a person's name as a parameter called `name` and a quote of theirs as a parameter called `quote`, and return a string attributing the quote to the person in the following format:\n",
    "\n",
    "```\n",
    "'[name] said: \"[quote]\"'\n",
    "```\n",
    "\n",
    "For example, if name is 'Grae' and 'quote' is 'Practice makes perfect' then your function should return the string\n",
    "\n",
    "'Grae said: \"Practice makes perfect\"'\n",
    "Unfortunately, something is wrong with the instructions in the function body. Your job is to fix it so the function returns correctly formatted quotes.\n",
    "\n",
    "Be careful with your quotation marks!"
   ]
  },
  {
   "cell_type": "code",
   "execution_count": 8,
   "metadata": {},
   "outputs": [
    {
     "data": {
      "text/plain": [
       "'Grae said: \"Practice makes perfect!\"'"
      ]
     },
     "execution_count": 8,
     "metadata": {},
     "output_type": "execute_result"
    }
   ],
   "source": [
    "def quotable(name, quote):\n",
    "    return '{0} said: \"{1}\"'.format(name, quote)\n",
    "\n",
    "quotable('Grae', 'Practice makes perfect!')"
   ]
  },
  {
   "cell_type": "markdown",
   "metadata": {},
   "source": [
    "## 3: Jedi name\n",
    "\n",
    "You just took a contract with the Jedi council. They need you to write a function, greet_jedi(), which takes two arguments (a first name and a last name), works out the corresponding Jedi name, and returns a string greeting the Jedi.\n",
    "\n",
    "A person's Jedi name is the first three letters of their last name followed by the first two letters of their first name. For example:\n",
    "\n",
    "```\n",
    ">>> greet_jedi('Beyonce', 'Knowles')\n",
    "'Greetings, master KnoBe'\n",
    "```\n",
    "\n",
    "Note the capitalization: the first letter of each name is capitalized. Your input may or may not be capitalized. Your function should handle it and return the Jedi name in the correct case no matter what case the input is in:\n",
    "\n",
    "```\n",
    ">>> greet_jedi('grae', 'drake')\n",
    "'Greetings, master DraGr'\n",
    "```"
   ]
  },
  {
   "cell_type": "code",
   "execution_count": 14,
   "metadata": {},
   "outputs": [
    {
     "data": {
      "text/plain": [
       "'Greetings, master KnoBe'"
      ]
     },
     "execution_count": 14,
     "metadata": {},
     "output_type": "execute_result"
    }
   ],
   "source": [
    "def greet_jedi(first_name, last_name):\n",
    "    jedi = last_name[0:3].capitalize() + first_name[0:2].capitalize()\n",
    "    return 'Greetings, master {}'.format(jedi)\n",
    "\n",
    "greet_jedi('Beyonce', 'Knowles')"
   ]
  },
  {
   "cell_type": "markdown",
   "metadata": {},
   "source": [
    "## 4: Poem formatter\n",
    "\n",
    "You have a collection of lovely poems. Unfortuantely they aren't formatted very well. They're all on one line, like this:\n",
    "\n",
    "```\n",
    "Beautiful is better than ugly. Explicit is better than implicit. Simple is better than complex. Complex is better than complicated.\n",
    "```\n",
    "\n",
    "What you want is to present each sentence on a new line, so that it looks like this:\n",
    "\n",
    "```\n",
    "Beautiful is better than ugly.\n",
    "Explicit is better than implicit.\n",
    "Simple is better than complex.\n",
    "Complex is better than complicated.\n",
    "```\n",
    "\n",
    "Write a function called `format_poem` that takes a string like the one-line example as an argument and returns a new string that is formatted across multiple lines with each new sentence starting on a new line when you print it out.\n",
    "\n",
    "Hint: You may find the `str.split()` and the `str.join()` string methods to be helpful.\n",
    "\n",
    "Every sentence will end with a period, and every new sentence will have one space before the previous period. Be careful about trailing whitespace in your solution."
   ]
  },
  {
   "cell_type": "code",
   "execution_count": 27,
   "metadata": {},
   "outputs": [
    {
     "name": "stdout",
     "output_type": "stream",
     "text": [
      "Beautiful is better than ugly.\n",
      "Explicit is better than implicit.\n",
      "Simple is better than complex.\n",
      "Complex is better than complicated.\n"
     ]
    }
   ],
   "source": [
    "def format_poem(poem):\n",
    "    poem = poem.split('. ')\n",
    "    poem = '.\\n'.join(poem)\n",
    "    return print(poem)\n",
    "\n",
    "format_poem('Beautiful is better than ugly. Explicit is better than implicit. Simple is better than complex. Complex is better than complicated.')"
   ]
  }
 ],
 "metadata": {
  "kernelspec": {
   "display_name": "Python 3",
   "language": "python",
   "name": "python3"
  },
  "language_info": {
   "codemirror_mode": {
    "name": "ipython",
    "version": 3
   },
   "file_extension": ".py",
   "mimetype": "text/x-python",
   "name": "python",
   "nbconvert_exporter": "python",
   "pygments_lexer": "ipython3",
   "version": "3.7.4"
  }
 },
 "nbformat": 4,
 "nbformat_minor": 2
}
