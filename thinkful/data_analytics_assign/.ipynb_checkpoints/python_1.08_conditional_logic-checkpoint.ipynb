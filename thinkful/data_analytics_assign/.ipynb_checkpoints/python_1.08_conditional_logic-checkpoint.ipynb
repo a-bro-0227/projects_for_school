{
 "cells": [
  {
   "cell_type": "markdown",
   "metadata": {},
   "source": [
    "## 1:  `take_umbrella`\n",
    "\n",
    "Write a function called `take_umbrella` that takes two arguments: a string representing the current weather and a float representing the chance of rain today.\n",
    "\n",
    "Your function should return `True` or `False` based on the following criteria.\n",
    "\n",
    "You should take an umbrella if it's currently raining or if it's cloudy and the chance of rain is over 0.20.\n",
    "You shouldn't take an umbrella if it's sunny unless it's more likely to rain than not.\n",
    "The options for the current weather are sunny, cloudy, and rainy.\n",
    "\n",
    "For example, `take_umbrella('sunny', 0.40)` should return `False`.\n",
    "\n",
    "As an additional challenge, consider solving this kata using only logical operaters and not using any if statements."
   ]
  },
  {
   "cell_type": "code",
   "execution_count": 13,
   "metadata": {},
   "outputs": [
    {
     "data": {
      "text/plain": [
       "False"
      ]
     },
     "execution_count": 13,
     "metadata": {},
     "output_type": "execute_result"
    }
   ],
   "source": [
    "def take_umbrella(weather, chance_rain):\n",
    "    \n",
    "    weather_options = ['sunny', 'cloudy', 'rainy']\n",
    "    \n",
    "    if weather in weather_options:\n",
    "        return chance_rain > 0.5 or weather == 'rainy' or (weather == 'cloudy' and chance_rain > 0.2)\n",
    "    else:\n",
    "        print('please input acceptable weather option: {}'.format(weather_options))\n",
    "\n",
    "take_umbrella('cloudy', 0.10)\n",
    "    \n",
    "        "
   ]
  },
  {
   "cell_type": "markdown",
   "metadata": {},
   "source": [
    "## 2: `color probability`\n",
    "\n",
    "You're playing a game with a friend involving a bag of marbles. In the bag are ten marbles:\n",
    "\n",
    "- 1 smooth red marble\n",
    "- 4 bumpy red marbles\n",
    "- 2 bumpy yellow marbles\n",
    "- 1 smooth yellow marble\n",
    "- 1 bumpy green marble\n",
    "- 1 smooth green marble\n",
    "\n",
    "You can see that the probability of picking a smooth red marble from the bag is 1 / 10 or 0.10 and the probability of picking a bumpy yellow marble is 2 / 10 or 0.20.\n",
    "\n",
    "The game works like this: your friend puts her hand in the bag, chooses a marble (without looking at it) and tells you whether it's bumpy or smooth. Then you have to guess which color it is before she pulls it out and reveals whether you're correct or not.\n",
    "\n",
    "You know that the information about whether the marble is bumpy or smooth changes the probability of what color it is, and you want some help with your guesses.\n",
    "\n",
    "Write a function `color_probability` that takes two arguments: a color ('red', 'yellow', or 'green') and a texture ('bumpy' or 'smooth') and returns the probability of drawing that combination as a decimal fraction accurate to two places.\n",
    "\n",
    "The probability should be a string and should discard any digits after the 100ths place. For example, 2 / 3 or 0.6666666666666666 would become the string '0.66'. Note this is different from rounding.\n",
    "\n",
    "As a complete example, color_probability('red', 'bumpy') should return the string '0.57'."
   ]
  },
  {
   "cell_type": "code",
   "execution_count": 25,
   "metadata": {},
   "outputs": [
    {
     "data": {
      "text/plain": [
       "'0.57'"
      ]
     },
     "execution_count": 25,
     "metadata": {},
     "output_type": "execute_result"
    }
   ],
   "source": [
    "def color_probability(color, texture):\n",
    "    color_options = ['red', 'yellow', 'green']\n",
    "    texture_options = ['bumpy', 'smooth']\n",
    "    \n",
    "    if color not in color_options:\n",
    "        print('please enter a valid color input: {}'.format(color_options))\n",
    "    elif texture not in texture_options:\n",
    "        print('please enter a valid texture input: {}'.format(texture_options))\n",
    "    else:\n",
    "        if texture == 'bumpy':\n",
    "            if color == 'red': color_prob = 4/7\n",
    "            elif color == 'yellow': color_prob = 2/7\n",
    "            elif color == 'green': color_prob = 1/7\n",
    "        elif texture == 'smooth':\n",
    "            if color == 'red': color_prob = 1/3\n",
    "            elif color == 'yellow': color_prob = 1/3\n",
    "            elif color == 'green': color_prob = 1/3\n",
    "        return str(round(color_prob, 2))\n",
    "\n",
    "color_probability('red', 'bumpy')"
   ]
  }
 ],
 "metadata": {
  "kernelspec": {
   "display_name": "Python 3",
   "language": "python",
   "name": "python3"
  },
  "language_info": {
   "codemirror_mode": {
    "name": "ipython",
    "version": 3
   },
   "file_extension": ".py",
   "mimetype": "text/x-python",
   "name": "python",
   "nbconvert_exporter": "python",
   "pygments_lexer": "ipython3",
   "version": "3.7.4"
  }
 },
 "nbformat": 4,
 "nbformat_minor": 2
}
